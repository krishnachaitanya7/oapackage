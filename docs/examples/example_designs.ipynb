{
 "cells": [
  {
   "cell_type": "markdown",
   "metadata": {},
   "source": [
    "# Example arrays"
   ]
  },
  {
   "cell_type": "markdown",
   "metadata": {},
   "source": [
    "The package contains several example arrays and designs. They can be retrieved using the method `exampleArray`."
   ]
  },
  {
   "cell_type": "code",
   "execution_count": 4,
   "metadata": {},
   "outputs": [
    {
     "name": "stdout",
     "output_type": "stream",
     "text": [
      "exampleArray 0: array in OA(8,2, 2^2)\n",
      "exampleArray 1: array 3 in OA(16, 2, 2^5)\n",
      "exampleArray 2: array 6 in OA(16, 2, 2^6)\n",
      "exampleArray 3: array ? in OA(32, 3, 2^7)\n",
      "exampleArray 4: array 4 in OA(16, 2, 2^7)\n",
      "exampleArray 5: array 0 in OA(24, 2, 4 3 2^a)\n",
      "exampleArray 6: array in OA(4, 2, 2^a)\n",
      "exampleArray 7: array 0 in OA(4, 2, 2^a)?\n",
      "exampleArray 8: array in OA(40, 3, 2^7)\n",
      "exampleArray 9: array in A(40, 2^7), D-optimal\n",
      "exampleArray 10: array in OA(9, 3^3)\n",
      "exampleArray 11: D-optimal array in OA(44, 2^8)\n",
      "exampleArray 12: even-odd array OA(64, 2^13)\n",
      "exampleArray 13: array in OA(25, 2^5)\n",
      "exampleArray 14: design in D(28, 2^5), D-efficiency is low\n",
      "exampleArray 15: design in D(56, 2^10), D-efficiency is low\n",
      "exampleArray 16: array in OA(32, 2, 2^5)\n",
      "exampleArray 17: unique array in OA(64, 4, 2^7)\n",
      "exampleArray 18: conference matrix of size 16, 7\n",
      "exampleArray 19: conference matrix of size 4, 3\n",
      "exampleArray 20: first LMC-0 double conference matrix in DC(24,3)\n",
      "exampleArray 21: second LMC-0 double conference matrix in DC(16,4)\n",
      "exampleArray 22: LMC-0 double conference matrix in DC(32,4)\n",
      "exampleArray 23: LMC-0 double conference matrix in DC(32,6)\n",
      "exampleArray 24: design in OA(64, 3, 2^16) (even-odd)\n",
      "exampleArray 25: design in OA(64, 3, 2^16) (even-odd)\n",
      "exampleArray 26: design in OA(64, 3, 2^16) (even-odd)\n",
      "exampleArray 27: design in OA(64, 3, 2^16) (even-odd)\n",
      "exampleArray 28: conference design in C(4, 3) in LMC0 form\n",
      "exampleArray 29: conference design in C(4, 3)\n",
      "exampleArray 30: conference design in C(8,4)\n",
      "exampleArray 31: conference design in C(8,4)\n",
      "exampleArray 32: first double conference design in DC(18,4)\n",
      "exampleArray 33: second double conference design in DC(18,4)\n",
      "exampleArray 34: third double conference design in DC(18,4)\n",
      "exampleArray 35: first double conference design in DC(20,4)\n",
      "exampleArray 36: second double conference design in DC(20,4)\n",
      "exampleArray 37: third double conference design in DC(20,4)\n",
      "exampleArray 38: LMC0 conference design in C(30,3)\n",
      "exampleArray 39: first LMC0 conference design in C(8,6)\n",
      "exampleArray 40: first conference design in C(14, 5)\n",
      "exampleArray 41: second conference design in C(14, 5)\n",
      "exampleArray 42: third conference design in C(14, 5)\n",
      "exampleArray 43: 2x2 array with zeros and a singe value -1\n",
      "exampleArray 44: D-optimal strength 3 ortogonal array in OA(40,3, 2^7)\n",
      "exampleArray 45: first conference design in C(20,8)\n",
      "exampleArray 46: second conference design in C(20,8)\n",
      "exampleArray 47: third conference design in C(20,8)\n",
      "exampleArray 48: last conference design in C(20,8)\n",
      "exampleArray 49: array 4347 C(20,8)\n",
      "exampleArray 50: array 4506 C(20,8)\n",
      "exampleArray 51: first array in C(12,4)\n",
      "exampleArray 52: second array in C(12,4)\n",
      "exampleArray 53: third array in C(12,4)\n",
      "exampleArray 54: root array in OA(6,2,3^1 2^1)\n",
      "exampleArray: no example array with index 55 exists\n"
     ]
    }
   ],
   "source": [
    "import oapackage\n",
    "al = oapackage.exampleArray(-1, 1)"
   ]
  },
  {
   "cell_type": "markdown",
   "metadata": {},
   "source": [
    "Select an example array and show it."
   ]
  },
  {
   "cell_type": "code",
   "execution_count": 3,
   "metadata": {},
   "outputs": [
    {
     "name": "stdout",
     "output_type": "stream",
     "text": [
      "exampleArray 2: array 6 in OA(16, 2, 2^6)\n",
      "array:\n",
      "  0   0   0   0   0   0\n",
      "  0   0   0   0   0   0\n",
      "  0   0   0   1   1   1\n",
      "  0   0   0   1   1   1\n",
      "  0   1   1   0   0   1\n",
      "  0   1   1   0   1   0\n",
      "  0   1   1   1   0   1\n",
      "  0   1   1   1   1   0\n",
      "  1   0   1   0   0   1\n",
      "  1   0   1   0   1   1\n",
      "  1   0   1   1   0   0\n",
      "  1   0   1   1   1   0\n",
      "  1   1   0   0   1   0\n",
      "  1   1   0   0   1   1\n",
      "  1   1   0   1   0   0\n",
      "  1   1   0   1   0   1\n"
     ]
    }
   ],
   "source": [
    "al=oapackage.exampleArray(2, 1)\n",
    "al.showarray()"
   ]
  }
 ],
 "metadata": {
  "kernelspec": {
   "display_name": "Python 3",
   "language": "python",
   "name": "python3"
  },
  "language_info": {
   "codemirror_mode": {
    "name": "ipython",
    "version": 3
   },
   "file_extension": ".py",
   "mimetype": "text/x-python",
   "name": "python",
   "nbconvert_exporter": "python",
   "pygments_lexer": "ipython3",
   "version": "3.7.1"
  }
 },
 "nbformat": 4,
 "nbformat_minor": 1
}
